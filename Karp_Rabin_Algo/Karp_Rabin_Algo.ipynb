{
 "cells": [
  {
   "cell_type": "markdown",
   "metadata": {},
   "source": [
    "#Implementation of Karp-Rabin Pattern Matching Algorithm(Rolling-Hash ADT)"
   ]
  },
  {
   "cell_type": "code",
   "execution_count": 1,
   "metadata": {},
   "outputs": [],
   "source": [
    "#!/usr/bin/python36\n",
    "\n",
    "import os\n",
    "import subprocess as sp\n",
    "import math\n",
    "from random import randint, randrange\n",
    "from bisect import bisect, bisect_left, bisect_right\n",
    "from collections import Counter\n",
    "from heapq import heappush, heappop, heapify\n"
   ]
  },
  {
   "cell_type": "code",
   "execution_count": 56,
   "metadata": {},
   "outputs": [],
   "source": [
    "class KarpRabin:\n",
    "    def __init__(self):\n",
    "        self.pattern=None\n",
    "        self.string=None\n",
    "        self.prime=None\n",
    "        \n",
    "    def search(self,pattern,string,prime,base=26): #Function to pattern searching\n",
    "        self.pattern=str(pattern)\n",
    "        self.string=str(string)\n",
    "        self.prime=prime\n",
    "        self.base=base\n",
    "        rp=0 #Variable to store Rolling-Hash of Pattern\n",
    "        rs=0 #Variable to store Rolling-Hash of String\n",
    "        \n",
    "        for i in range(len(self.pattern)):\n",
    "            rp = ((rp*self.base)+ord(self.pattern[i])) % self.prime\n",
    "            rs = ((rs*self.base)+ord(self.string[i])) % self.prime\n",
    "        \n",
    "        if rp == rs: #If Hash-Function is same, Still we need to match the pattern,\n",
    "                    #as different-different strings could generate same Hash-Function\n",
    "            \n",
    "            if self.pattern == self.string[0:len(self.pattern)]:\n",
    "                print(\"Match Found\")\n",
    "                #print(\"rp\",rp,\"rs\",rs)\n",
    "                return \n",
    "        for i in range(len(self.pattern),len(self.string)): #Iterate Through whole String,\n",
    "                                            #When First window of String is not matched with pattern\n",
    "            \n",
    "            rs = ((rs)-(ord(self.string[i-len(self.pattern)])*(self.base**(len(self.pattern)-1)))) % self.prime    \n",
    "                #Eliminating the first element of window partition \n",
    "            \n",
    "            rs = ((rs*self.base)+ord(self.string[i])) % self.prime\n",
    "                #Adding the next element to window partition\n",
    "                        \n",
    "            if rs == rp:\n",
    "                if self.pattern == self.string[i-len(self.pattern)+1:i+1]:\n",
    "                    print(\"Match Found\")\n",
    "                    return \n",
    "            \n",
    "        return 'Match Not Found'\n",
    "            \n",
    "            \n",
    "            \n",
    "            "
   ]
  },
  {
   "cell_type": "code",
   "execution_count": 57,
   "metadata": {},
   "outputs": [],
   "source": [
    "a=KarpRabin()"
   ]
  },
  {
   "cell_type": "code",
   "execution_count": 60,
   "metadata": {},
   "outputs": [
    {
     "name": "stdout",
     "output_type": "stream",
     "text": [
      "Match Found\n"
     ]
    }
   ],
   "source": [
    "a.search('abhiz','shgabhiz',757)"
   ]
  },
  {
   "cell_type": "code",
   "execution_count": null,
   "metadata": {},
   "outputs": [],
   "source": [
    "                    ###Contributed by NobleBlack"
   ]
  }
 ],
 "metadata": {
  "kernelspec": {
   "display_name": "Python 3",
   "language": "python",
   "name": "python3"
  },
  "language_info": {
   "codemirror_mode": {
    "name": "ipython",
    "version": 3
   },
   "file_extension": ".py",
   "mimetype": "text/x-python",
   "name": "python",
   "nbconvert_exporter": "python",
   "pygments_lexer": "ipython3",
   "version": "3.6.8"
  }
 },
 "nbformat": 4,
 "nbformat_minor": 2
}
