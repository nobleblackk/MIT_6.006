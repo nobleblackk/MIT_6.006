{
 "cells": [
  {
   "cell_type": "markdown",
   "metadata": {},
   "source": [
    "#Implementation of BST(Binary Search Tree)"
   ]
  },
  {
   "cell_type": "code",
   "execution_count": 114,
   "metadata": {},
   "outputs": [],
   "source": [
    "#!/usr/bin/python36\n",
    "\n",
    "import os\n",
    "import subprocess as sp\n",
    "from random import randint\n",
    "from bisect import bisect, bisect_left, bisect_right\n",
    "from heapq import heappush, heappop, heapify\n",
    "from collections import Counter\n",
    "import math"
   ]
  },
  {
   "cell_type": "code",
   "execution_count": 115,
   "metadata": {},
   "outputs": [],
   "source": [
    "class Node:\n",
    "    def __init__(self,data):\n",
    "        self.data=data\n",
    "        self.leftChild=None\n",
    "        self.rightChild=None\n",
    "    "
   ]
  },
  {
   "cell_type": "code",
   "execution_count": 122,
   "metadata": {},
   "outputs": [],
   "source": [
    "class BST:\n",
    "    COUNT=[10]\n",
    "    def __init__(self):\n",
    "        self.root=None\n",
    "    \n",
    "    def insert(self,data):\n",
    "        #node=Node(data)\n",
    "        if self.root is None:\n",
    "            self.root=Node(data)\n",
    "        else:\n",
    "            self.insertNode(self.root,data)\n",
    "    \n",
    "    def insertNode(self,node,data):\n",
    "        if data<node.data:\n",
    "            if node.leftChild is None:\n",
    "                node.leftChild=Node(data)\n",
    "            else:\n",
    "                self.insertNode(node.leftChild,data)\n",
    "        else:\n",
    "            if node.rightChild is None:\n",
    "                node.rightChild=Node(data)\n",
    "            else:\n",
    "                self.insertNode(node.rightChild,data)\n",
    "    \n",
    "    def getMin(self):\n",
    "        if self.root is None:\n",
    "            print(\"Tree is Empty\")\n",
    "        else:\n",
    "            return self.getMinValue(self.root)\n",
    "    \n",
    "    def getMinValue(self,node):\n",
    "        if node.leftChild is None:\n",
    "            return node.data\n",
    "        else:\n",
    "            return self.getMinValue(node.leftChild)\n",
    "    \n",
    "    def getMax(self):\n",
    "        if self.root is None:\n",
    "            print(\"Tree is Empty\")\n",
    "        else:\n",
    "            return self.getMaxValue(self.root)\n",
    "    \n",
    "    def getMaxValue(self,node):\n",
    "        if node.rightChild is None:\n",
    "            return node.data\n",
    "        else:\n",
    "            return self.getMaxValue(node.rightChild)\n",
    "    ###Printing the Tree in 2D form\n",
    "    def print2D(self) : \n",
    "        self.print2DUtil(self.root, 0) \n",
    "    \n",
    "\n",
    "    def print2DUtil(self,root, space) : \n",
    "        if (root == None) : \n",
    "            return\n",
    "        space += BST.COUNT[0] \n",
    "        self.print2DUtil(root.rightChild, space)  \n",
    "        print()  \n",
    "        for i in range(BST.COUNT[0] , space): \n",
    "            print(end = \" \")  \n",
    "        print(root.data)  \n",
    "        self.print2DUtil(root.leftChild, space)  \n",
    "    \n",
    "    def traversal(self):\n",
    "        print('''\n",
    "                Please Write Order for Traversal:\n",
    "                1.InOrder-Traversal\n",
    "                2.PreOrder-Traversal\n",
    "                3.PostOrder-Traversal\n",
    "                ''')\n",
    "        n=int(input())\n",
    "        if n==1:\n",
    "            self.inOrder()\n",
    "        elif n==2:\n",
    "            self.preOrder()\n",
    "        elif n==3:\n",
    "            self.postOrder()\n",
    "    \n",
    "    def inOrder(self):\n",
    "        if self.root is None:\n",
    "            print(\"Tree is Empty\")\n",
    "        else:\n",
    "            print(\"InOrder-Traversal:\")\n",
    "            self.inOrderTraversal(self.root)\n",
    "    \n",
    "    def inOrderTraversal(self,node):\n",
    "        if node.leftChild is not None:\n",
    "            self.inOrderTraversal(node.leftChild)\n",
    "        print(node.data)\n",
    "        if node.rightChild is not None:\n",
    "            self.inOrderTraversal(node.rightChild)\n",
    "    \n",
    "    def preOrder(self):\n",
    "        if self.root is None:\n",
    "            print(\"Tree is Empty\")\n",
    "        else:\n",
    "            print(\"PreOrder-Traversal:\")\n",
    "            self.preOrderTraversal(self.root)\n",
    "    \n",
    "    def preOrderTraversal(self,node):\n",
    "        print(node.data)\n",
    "        if node.leftChild is not None:\n",
    "            self.preOrderTraversal(node.leftChild)\n",
    "        if node.rightChild is not None:\n",
    "            self.preOrderTraversal(node.rightChild)\n",
    "        \n",
    "    def postOrder(self):\n",
    "        if self.root is None:\n",
    "            print(\"Tree is Empty\")\n",
    "        else:\n",
    "            print(\"PostOrder-Traversal:\")\n",
    "            self.postOrderTraversal(self.root)\n",
    "    \n",
    "    def postOrderTraversal(self,node):\n",
    "        if node.leftChild is not None:\n",
    "            self.postOrderTraversal(node.leftChild)\n",
    "        if node.rightChild is not None:\n",
    "            self.postOrderTraversal(node.rightChild)\n",
    "        print(node.data)\n",
    "    \n",
    "    def remove(self,data):\n",
    "        if self.root is None:\n",
    "            print(\"Tree is Empty\")\n",
    "        else:\n",
    "            self.root = self.removeNode(self.root,data)\n",
    "    \n",
    "    def removeNode(self,node,data):\n",
    "        if node is None:\n",
    "            return None\n",
    "        elif data < node.data:\n",
    "            node.leftChild = self.removeNode(node.leftChild,data)\n",
    "        elif data > node.data:\n",
    "            node.rightChild = self.removeNode(node.rightChild,data)\n",
    "        #it means,this is the node, to be deleted :)\n",
    "        else: \n",
    "            if not node.leftChild and not node.rightChild:#node with no children\n",
    "                print(\"Removing the node with no subtree...\")\n",
    "                del node\n",
    "                return None\n",
    "            if not node.leftChild:#node with only rightChild\n",
    "                print(\"Removing the node with only right Subtree...\")\n",
    "                tempNode = node.rightChild\n",
    "                del node\n",
    "                return tempNode\n",
    "            if not node.rightChild:#node with only leftChild\n",
    "                print(\"Removing the node with only left Subtree...\")\n",
    "                tempNode = node.leftChild\n",
    "                del node\n",
    "                return tempNode\n",
    "                #node with two children, to be removed :) -->\n",
    "                ##there are two ways to delete node having two children,\n",
    "                ##1.)By predecessor method=> find the largest node in left \n",
    "                    ##subtree and then swap that node with node to be deleted,\n",
    "                    ##and we will land at either of first two cases.\n",
    "                ##2.)By Successor method=> find the smallest node in right \n",
    "                    ##subtree and then swap that node with node to be deleted,\n",
    "                    ##and we will land at either of first two cases. :)\n",
    "            print(\"Removing the node with Two Subtree...\")\n",
    "            #predecessor = self.getPredecessor(node.leftChild)\n",
    "            #node.data = predecessor.data\n",
    "            #node.leftChild = self.removeNode(node.leftChild,predecessor.data)\n",
    "            ###by Successor method-->\n",
    "            successor = self.getSuccessor(node.rightChild)\n",
    "            node.data = successor.data\n",
    "            node.rightChild = self.removeNode(node.rightChild,successor.data)\n",
    "        \n",
    "        return node\n",
    "            \n",
    "            \n",
    "            \n",
    "    def getSuccessor(self,node):\n",
    "        if node.leftChild:\n",
    "            return self.getSuccessor(node.leftChild)\n",
    "        return node\n",
    "    \n",
    "    def getPredecessor(self,node):\n",
    "        if node.rightChild:\n",
    "            return self.getPredecessor(node.rightChild)\n",
    "        return node\n",
    "                \n",
    "                \n",
    "                \n",
    "            \n",
    "            \n",
    "        \n",
    "            \n",
    "    \n",
    "        \n",
    "      \n",
    "\n",
    "\n",
    "\n",
    "\n",
    "\n",
    "\n",
    "\n",
    "\n",
    "\n",
    "\n"
   ]
  },
  {
   "cell_type": "code",
   "execution_count": 123,
   "metadata": {},
   "outputs": [
    {
     "name": "stdout",
     "output_type": "stream",
     "text": [
      "3\n",
      "33\n"
     ]
    }
   ],
   "source": [
    "tree=BST()\n",
    "tree.insert(12)\n",
    "tree.insert(13)\n",
    "tree.insert(5)\n",
    "tree.insert(3)\n",
    "tree.insert(33)\n",
    "tree.insert(4)\n",
    "tree.insert(6)\n",
    "tree.insert(23)\n",
    "\n",
    "print(tree.getMin())\n",
    "print(tree.getMax())"
   ]
  },
  {
   "cell_type": "code",
   "execution_count": 124,
   "metadata": {},
   "outputs": [
    {
     "name": "stdout",
     "output_type": "stream",
     "text": [
      "\n",
      "                    33\n",
      "\n",
      "                              23\n",
      "\n",
      "          13\n",
      "\n",
      "12\n",
      "\n",
      "                    6\n",
      "\n",
      "          5\n",
      "\n",
      "                              4\n",
      "\n",
      "                    3\n"
     ]
    }
   ],
   "source": [
    "tree.print2D()"
   ]
  },
  {
   "cell_type": "code",
   "execution_count": 125,
   "metadata": {},
   "outputs": [
    {
     "name": "stdout",
     "output_type": "stream",
     "text": [
      "\n",
      "                Please Write Order for Traversal:\n",
      "                1.InOrder-Traversal\n",
      "                2.PreOrder-Traversal\n",
      "                3.PostOrder-Traversal\n",
      "                \n",
      "1\n",
      "InOrder-Traversal:\n",
      "3\n",
      "4\n",
      "5\n",
      "6\n",
      "12\n",
      "13\n",
      "23\n",
      "33\n"
     ]
    }
   ],
   "source": [
    "tree.traversal()"
   ]
  },
  {
   "cell_type": "code",
   "execution_count": 126,
   "metadata": {},
   "outputs": [
    {
     "name": "stdout",
     "output_type": "stream",
     "text": [
      "Removing the node with Two Subtree...\n",
      "Removing the node with only right Subtree...\n"
     ]
    }
   ],
   "source": [
    "tree.remove(12)"
   ]
  },
  {
   "cell_type": "code",
   "execution_count": 127,
   "metadata": {},
   "outputs": [
    {
     "name": "stdout",
     "output_type": "stream",
     "text": [
      "\n",
      "          33\n",
      "\n",
      "                    23\n",
      "\n",
      "13\n",
      "\n",
      "                    6\n",
      "\n",
      "          5\n",
      "\n",
      "                              4\n",
      "\n",
      "                    3\n"
     ]
    }
   ],
   "source": [
    "tree.print2D()"
   ]
  },
  {
   "cell_type": "code",
   "execution_count": 95,
   "metadata": {},
   "outputs": [
    {
     "ename": "SyntaxError",
     "evalue": "invalid syntax (<ipython-input-95-9d6ee410a6c1>, line 1)",
     "output_type": "error",
     "traceback": [
      "\u001b[0;36m  File \u001b[0;32m\"<ipython-input-95-9d6ee410a6c1>\"\u001b[0;36m, line \u001b[0;32m1\u001b[0m\n\u001b[0;31m    tree.\u001b[0m\n\u001b[0m         ^\u001b[0m\n\u001b[0;31mSyntaxError\u001b[0m\u001b[0;31m:\u001b[0m invalid syntax\n"
     ]
    }
   ],
   "source": [
    "                    ###Contributed by NobleBlack"
   ]
  },
  {
   "cell_type": "code",
   "execution_count": null,
   "metadata": {},
   "outputs": [],
   "source": []
  }
 ],
 "metadata": {
  "kernelspec": {
   "display_name": "Python 3",
   "language": "python",
   "name": "python3"
  },
  "language_info": {
   "codemirror_mode": {
    "name": "ipython",
    "version": 3
   },
   "file_extension": ".py",
   "mimetype": "text/x-python",
   "name": "python",
   "nbconvert_exporter": "python",
   "pygments_lexer": "ipython3",
   "version": "3.6.8"
  }
 },
 "nbformat": 4,
 "nbformat_minor": 2
}
