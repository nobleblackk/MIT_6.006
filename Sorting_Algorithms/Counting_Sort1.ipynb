{
 "cells": [
  {
   "cell_type": "markdown",
   "metadata": {},
   "source": [
    "#Implementation of Counting-Sort"
   ]
  },
  {
   "cell_type": "code",
   "execution_count": 5,
   "metadata": {},
   "outputs": [],
   "source": [
    "#!/usr/bin/python3\n",
    "\n",
    "import os \n",
    "import subprocess as sp\n",
    "import math\n",
    "from random import randint \n",
    "from collections import Counter\n",
    "from bisect import bisect, bisect_left, bisect_right\n",
    "from heapq import heappush, heappop, heapify"
   ]
  },
  {
   "cell_type": "code",
   "execution_count": 13,
   "metadata": {},
   "outputs": [],
   "source": [
    "def array1D(n):\n",
    "    arr=[]\n",
    "    for i in range(n):\n",
    "        arr.append(randint(1,10))\n",
    "    print(arr)\n",
    "    return arr"
   ]
  },
  {
   "cell_type": "code",
   "execution_count": 22,
   "metadata": {},
   "outputs": [],
   "source": [
    "def countingSort(arr):\n",
    "    Max=max(arr) #finding the maximum value\n",
    "    count=[0]*(Max+1) #making array as the length of largest element present\n",
    "    for i in range(len(arr)): #storing count of each element present in array\n",
    "        count[arr[i]]+=1\n",
    "    print(count)\n",
    "    \n",
    "    for i in range(1,Max+1): #storing the actual positon of elements of the array in count array\n",
    "        count[i]+=count[i-1]\n",
    "    print(\"with position\",count)\n",
    "    \n",
    "    res=[0]*len(arr)\n",
    "    i=len(arr)-1\n",
    "    while i>=0: #\"res\" array with the right order \n",
    "        res[count[arr[i]]-1]=arr[i]\n",
    "        count[arr[i]]-=1\n",
    "        i-=1\n",
    "    return res\n",
    "        \n",
    "    \n",
    "    "
   ]
  },
  {
   "cell_type": "code",
   "execution_count": 23,
   "metadata": {},
   "outputs": [
    {
     "name": "stdout",
     "output_type": "stream",
     "text": [
      "input no5\n",
      "[3, 6, 9, 5, 1]\n",
      "[0, 1, 0, 1, 0, 1, 1, 0, 0, 1]\n",
      "with position [0, 1, 1, 2, 2, 3, 4, 4, 4, 5]\n",
      "[1, 3, 5, 6, 9]\n"
     ]
    }
   ],
   "source": [
    "###Driver-Code\n",
    "n=int(input(\"input no\"))\n",
    "arr=array1D(n)\n",
    "print(countingSort(arr))"
   ]
  },
  {
   "cell_type": "code",
   "execution_count": null,
   "metadata": {},
   "outputs": [],
   "source": []
  }
 ],
 "metadata": {
  "kernelspec": {
   "display_name": "Python 3",
   "language": "python",
   "name": "python3"
  },
  "language_info": {
   "codemirror_mode": {
    "name": "ipython",
    "version": 3
   },
   "file_extension": ".py",
   "mimetype": "text/x-python",
   "name": "python",
   "nbconvert_exporter": "python",
   "pygments_lexer": "ipython3",
   "version": "3.6.8"
  }
 },
 "nbformat": 4,
 "nbformat_minor": 2
}
