{
 "cells": [
  {
   "cell_type": "markdown",
   "metadata": {},
   "source": [
    "#Implementation of Radix-Sort"
   ]
  },
  {
   "cell_type": "code",
   "execution_count": 1,
   "metadata": {},
   "outputs": [],
   "source": [
    "#!/usr/bin/python3\n",
    "\n",
    "import os \n",
    "import subprocess as sp\n",
    "import math\n",
    "from random import randint \n",
    "from collections import Counter\n",
    "from bisect import bisect, bisect_left, bisect_right\n",
    "from heapq import heappush, heappop, heapify"
   ]
  },
  {
   "cell_type": "code",
   "execution_count": 6,
   "metadata": {},
   "outputs": [],
   "source": [
    "def array1D(n):\n",
    "    arr=[]\n",
    "    for i in range(n):\n",
    "        arr.append(randint(1,10))\n",
    "    print(arr)\n",
    "    return arr\n"
   ]
  },
  {
   "cell_type": "code",
   "execution_count": 13,
   "metadata": {},
   "outputs": [],
   "source": [
    "def radixSort(arr): #We are assuming that numbers are always decimals. So base=>10 :)\n",
    "    Max=max(arr)\n",
    "    exp=1\n",
    "    while (Max//exp) > 0: #O(d(n+b)) ,  \n",
    "        arr = countingSort(arr,exp)\n",
    "        exp*=10\n",
    "    return arr\n",
    "    \n",
    "    ###feasible -> Max<=polynomial of n but not n^n\n",
    "    ###d(n+b) -> logb(k)(n+b) -> when k => polynomail in n i.e. n^1,n^2,n^3,n^4...n^n-1\n",
    "    ###what 'b' we want, lets say , if b is o(n), then ->\n",
    "    ###logn(k)(n+o(n))=>logn(k)(n) and now, -> what 'k' we want, lets say,\n",
    "    ###k should be polynomail of 'n' but not 'n^n' so when it is polynomail in n, then ->\n",
    "    ###logn(n^c)(n) => c(logn(n))(n) => c((1)n) => so it is linear\n",
    "    ###where c is any arbitary number\n",
    "    \n",
    "    "
   ]
  },
  {
   "cell_type": "code",
   "execution_count": 17,
   "metadata": {},
   "outputs": [],
   "source": [
    "def countingSort(arr,exp):\n",
    "    b=[0]*10 #as only decimals are coming this way\n",
    "    \n",
    "    \n",
    "    for i in range(len(arr)): #Keeping the count of numbers, their digit-wise.\n",
    "        b[(arr[i]//exp)%10]+=1\n",
    "    \n",
    "    for i in range(1,len(b)): #updating the indices with actual positions (O(b))\n",
    "        b[i]+=b[i-1]\n",
    "    res=[0]*len(arr)\n",
    "    i=len(arr)-1\n",
    "    while i>=0: #O(n)\n",
    "        res[b[(arr[i]//exp)%10]-1]=arr[i]\n",
    "        b[(arr[i]//exp)%10]-=1\n",
    "        i-=1\n",
    "    return res\n",
    "                    ###Contributed by NobleBlack\n",
    "        "
   ]
  },
  {
   "cell_type": "code",
   "execution_count": 22,
   "metadata": {},
   "outputs": [
    {
     "name": "stdout",
     "output_type": "stream",
     "text": [
      "enter value10\n",
      "[9, 7, 4, 5, 4, 2, 1, 1, 5, 5]\n"
     ]
    }
   ],
   "source": [
    "n=int(input(\"enter value\"))\n",
    "arr=array1D(n)\n"
   ]
  },
  {
   "cell_type": "code",
   "execution_count": 23,
   "metadata": {},
   "outputs": [
    {
     "name": "stdout",
     "output_type": "stream",
     "text": [
      "[1, 1, 2, 4, 4, 5, 5, 5, 7, 9]\n"
     ]
    }
   ],
   "source": [
    "arr=radixSort(arr)\n",
    "print(arr)"
   ]
  },
  {
   "cell_type": "code",
   "execution_count": null,
   "metadata": {},
   "outputs": [],
   "source": []
  }
 ],
 "metadata": {
  "kernelspec": {
   "display_name": "Python 3",
   "language": "python",
   "name": "python3"
  },
  "language_info": {
   "codemirror_mode": {
    "name": "ipython",
    "version": 3
   },
   "file_extension": ".py",
   "mimetype": "text/x-python",
   "name": "python",
   "nbconvert_exporter": "python",
   "pygments_lexer": "ipython3",
   "version": "3.6.8"
  }
 },
 "nbformat": 4,
 "nbformat_minor": 2
}
