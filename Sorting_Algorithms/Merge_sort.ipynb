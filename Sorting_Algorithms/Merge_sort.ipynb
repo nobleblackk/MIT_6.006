{
 "cells": [
  {
   "cell_type": "markdown",
   "metadata": {},
   "source": [
    "Implementation of Merge_Sort."
   ]
  },
  {
   "cell_type": "code",
   "execution_count": 1,
   "metadata": {},
   "outputs": [],
   "source": [
    "#!/usr/bin/python36\n",
    "import os\n",
    "import subprocess as sp\n",
    "from random import randint "
   ]
  },
  {
   "cell_type": "code",
   "execution_count": 5,
   "metadata": {},
   "outputs": [],
   "source": [
    "def merge(arr,start,mid,end):\n",
    "    temp=[0]*(end-start+1)\n",
    "    i,j,k=start,mid+1,0\n",
    "    while i<=mid and j<=end:\n",
    "        if arr[i]<arr[j]:\n",
    "            temp[k]=arr[i]\n",
    "            i+=1\n",
    "            k+=1\n",
    "        else:\n",
    "            temp[k]=arr[j]\n",
    "            j+=1\n",
    "            k+=1\n",
    "    #including the rest elements of i\n",
    "    while i<=mid:\n",
    "        temp[k]=arr[i]\n",
    "        i+=1\n",
    "        k+=1\n",
    "    #including the rest elements of j\n",
    "    while j<=end:\n",
    "        temp[k]=arr[j]\n",
    "        j+=1\n",
    "        k+=1\n",
    "    for i in range(start,end+1):\n",
    "        arr[i]=temp[i-start]\n",
    "        "
   ]
  },
  {
   "cell_type": "code",
   "execution_count": 6,
   "metadata": {},
   "outputs": [],
   "source": [
    "def mergeSort(arr,start,end):\n",
    "    mid=start+(end-start)//2\n",
    "    if start<end:\n",
    "        mergeSort(arr,start,mid)\n",
    "        mergeSort(arr,mid+1,end)\n",
    "        merge(arr,start,mid,end)\n",
    "    #print(arr)"
   ]
  },
  {
   "cell_type": "code",
   "execution_count": 7,
   "metadata": {},
   "outputs": [
    {
     "name": "stdout",
     "output_type": "stream",
     "text": [
      "[4, 3, 2, 1]\n",
      "[4, 3, 2, 1]\n",
      "[3, 4, 2, 1]\n",
      "[3, 4, 2, 1]\n",
      "[3, 4, 2, 1]\n",
      "[3, 4, 1, 2]\n",
      "[1, 2, 3, 4]\n"
     ]
    }
   ],
   "source": [
    "mergeSort([4,3,2,1],0,3)\n"
   ]
  },
  {
   "cell_type": "code",
   "execution_count": null,
   "metadata": {},
   "outputs": [],
   "source": []
  }
 ],
 "metadata": {
  "kernelspec": {
   "display_name": "Python 3",
   "language": "python",
   "name": "python3"
  },
  "language_info": {
   "codemirror_mode": {
    "name": "ipython",
    "version": 3
   },
   "file_extension": ".py",
   "mimetype": "text/x-python",
   "name": "python",
   "nbconvert_exporter": "python",
   "pygments_lexer": "ipython3",
   "version": "3.6.8"
  }
 },
 "nbformat": 4,
 "nbformat_minor": 2
}
