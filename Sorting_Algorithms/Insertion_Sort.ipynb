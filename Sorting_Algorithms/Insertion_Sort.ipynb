{
 "cells": [
  {
   "cell_type": "markdown",
   "metadata": {},
   "source": [
    "Implementation of Insertion Sort.\n",
    "Contributed by NobleBlack.\n"
   ]
  },
  {
   "cell_type": "code",
   "execution_count": 9,
   "metadata": {},
   "outputs": [],
   "source": [
    "#!/usr/bin/python36\n",
    "import os \n",
    "import subprocess as sp\n",
    "from random import randint"
   ]
  },
  {
   "cell_type": "code",
   "execution_count": 10,
   "metadata": {},
   "outputs": [],
   "source": [
    "def Array1D(n):\n",
    "    arr=[]\n",
    "    for i in range(n):\n",
    "        arr.append(randint(1,100))\n",
    "    return arr"
   ]
  },
  {
   "cell_type": "code",
   "execution_count": 8,
   "metadata": {},
   "outputs": [
    {
     "name": "stdout",
     "output_type": "stream",
     "text": [
      "[-6, 1, 2, 3, 4, 5]\n"
     ]
    }
   ],
   "source": [
    "def Insertion_Sort(A):\n",
    "    for i in range(1,len(A),1):\n",
    "        if A[i]<A[i-1]:\n",
    "            A[i],A[i-1]=A[i-1],A[i]\n",
    "            for j in range(i-1,0,-1):\n",
    "                if A[j]<A[j-1]:\n",
    "                    A[j],A[j-1]=A[j-1],A[j]\n",
    "    print(A)        \n",
    "\n",
    "Insertion_Sort([5,2,4,-6,1,3])"
   ]
  },
  {
   "cell_type": "code",
   "execution_count": 13,
   "metadata": {},
   "outputs": [
    {
     "name": "stdout",
     "output_type": "stream",
     "text": [
      "Input Size of Array10\n",
      "Array is: [27, 28, 59, 74, 61, 86, 100, 19, 3, 56]\n",
      "Sorted Array is:[3, 19, 27, 28, 56, 59, 61, 74, 86, 100]\n"
     ]
    }
   ],
   "source": [
    "#Driver Code\n",
    "n=int(input(\"Input Size of Array\"))\n",
    "arr=Array1D(n)\n",
    "print(\"Array is:\",arr)\n",
    "print(\"Sorted Array is:\",end='')\n",
    "Insertion_Sort(arr)\n",
    "                    ###Contributed by NobleBlack"
   ]
  },
  {
   "cell_type": "code",
   "execution_count": null,
   "metadata": {},
   "outputs": [],
   "source": []
  }
 ],
 "metadata": {
  "kernelspec": {
   "display_name": "Python 3",
   "language": "python",
   "name": "python3"
  },
  "language_info": {
   "codemirror_mode": {
    "name": "ipython",
    "version": 3
   },
   "file_extension": ".py",
   "mimetype": "text/x-python",
   "name": "python",
   "nbconvert_exporter": "python",
   "pygments_lexer": "ipython3",
   "version": "3.6.8"
  }
 },
 "nbformat": 4,
 "nbformat_minor": 2
}
