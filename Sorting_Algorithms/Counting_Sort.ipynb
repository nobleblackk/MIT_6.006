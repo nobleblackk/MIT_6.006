{
 "cells": [
  {
   "cell_type": "markdown",
   "metadata": {},
   "source": [
    "#Implementation of Counting-Sort"
   ]
  },
  {
   "cell_type": "code",
   "execution_count": 1,
   "metadata": {},
   "outputs": [],
   "source": [
    "#!/usr/bin/python36\n",
    "\n",
    "import os\n",
    "import subprocess as sp\n",
    "from bisect import bisect, bisect_left, bisect_right\n",
    "from random import randint\n",
    "from collections import Counter\n",
    "import math\n",
    "from heapq import heappush, heappop, heapify"
   ]
  },
  {
   "cell_type": "code",
   "execution_count": 21,
   "metadata": {},
   "outputs": [],
   "source": [
    "def array1D(n):\n",
    "    arr=[]\n",
    "    for i in range(n):\n",
    "        arr.append(randint(1,10))\n",
    "    print(arr)\n",
    "    return arr"
   ]
  },
  {
   "cell_type": "code",
   "execution_count": 22,
   "metadata": {},
   "outputs": [],
   "source": [
    "def countingSort(arr): #O(n+k)\n",
    "    k = max(arr) #O(len(arr))\n",
    "    aux = [0]*(k+1) #O(k)\n",
    "    print(aux)\n",
    "    \n",
    "    for i in range(len(arr)): #O(len(arr))\n",
    "        aux[arr[i]]+=1\n",
    "        print(aux)\n",
    "    \n",
    "    ans=[]\n",
    "    j=0\n",
    "    for i in range(k+1):\n",
    "        temp=aux[i]\n",
    "        while temp:\n",
    "            ans.append(i)\n",
    "            temp-=1\n",
    "    return ans"
   ]
  },
  {
   "cell_type": "code",
   "execution_count": 23,
   "metadata": {},
   "outputs": [
    {
     "name": "stdout",
     "output_type": "stream",
     "text": [
      "Input no of Elements20\n",
      "[9, 8, 3, 8, 2, 9, 1, 5, 7, 3, 10, 6, 9, 7, 9, 2, 4, 7, 10, 5]\n",
      "[0, 0, 0, 0, 0, 0, 0, 0, 0, 0, 0]\n",
      "[0, 0, 0, 0, 0, 0, 0, 0, 0, 1, 0]\n",
      "[0, 0, 0, 0, 0, 0, 0, 0, 1, 1, 0]\n",
      "[0, 0, 0, 1, 0, 0, 0, 0, 1, 1, 0]\n",
      "[0, 0, 0, 1, 0, 0, 0, 0, 2, 1, 0]\n",
      "[0, 0, 1, 1, 0, 0, 0, 0, 2, 1, 0]\n",
      "[0, 0, 1, 1, 0, 0, 0, 0, 2, 2, 0]\n",
      "[0, 1, 1, 1, 0, 0, 0, 0, 2, 2, 0]\n",
      "[0, 1, 1, 1, 0, 1, 0, 0, 2, 2, 0]\n",
      "[0, 1, 1, 1, 0, 1, 0, 1, 2, 2, 0]\n",
      "[0, 1, 1, 2, 0, 1, 0, 1, 2, 2, 0]\n",
      "[0, 1, 1, 2, 0, 1, 0, 1, 2, 2, 1]\n",
      "[0, 1, 1, 2, 0, 1, 1, 1, 2, 2, 1]\n",
      "[0, 1, 1, 2, 0, 1, 1, 1, 2, 3, 1]\n",
      "[0, 1, 1, 2, 0, 1, 1, 2, 2, 3, 1]\n",
      "[0, 1, 1, 2, 0, 1, 1, 2, 2, 4, 1]\n",
      "[0, 1, 2, 2, 0, 1, 1, 2, 2, 4, 1]\n",
      "[0, 1, 2, 2, 1, 1, 1, 2, 2, 4, 1]\n",
      "[0, 1, 2, 2, 1, 1, 1, 3, 2, 4, 1]\n",
      "[0, 1, 2, 2, 1, 1, 1, 3, 2, 4, 2]\n",
      "[0, 1, 2, 2, 1, 2, 1, 3, 2, 4, 2]\n",
      "[1, 2, 2, 3, 3, 4, 5, 5, 6, 7, 7, 7, 8, 8, 9, 9, 9, 9, 10, 10]\n"
     ]
    }
   ],
   "source": [
    "###Driver-Code\n",
    "n=int(input(\"Input no of Elements\"))\n",
    "arr=array1D(n)\n",
    "print(countingSort(arr))\n",
    "                    ###Contributed by NobleBlack"
   ]
  },
  {
   "cell_type": "code",
   "execution_count": null,
   "metadata": {},
   "outputs": [],
   "source": []
  }
 ],
 "metadata": {
  "kernelspec": {
   "display_name": "Python 3",
   "language": "python",
   "name": "python3"
  },
  "language_info": {
   "codemirror_mode": {
    "name": "ipython",
    "version": 3
   },
   "file_extension": ".py",
   "mimetype": "text/x-python",
   "name": "python",
   "nbconvert_exporter": "python",
   "pygments_lexer": "ipython3",
   "version": "3.6.8"
  }
 },
 "nbformat": 4,
 "nbformat_minor": 2
}
