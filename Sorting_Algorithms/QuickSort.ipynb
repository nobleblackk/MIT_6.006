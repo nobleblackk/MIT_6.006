{
 "cells": [
  {
   "cell_type": "markdown",
   "metadata": {},
   "source": [
    "#Implementation of Quick-Sort (Avg Case => O(nlogn)) "
   ]
  },
  {
   "cell_type": "code",
   "execution_count": 1,
   "metadata": {},
   "outputs": [],
   "source": [
    "#!/usr/bin/python36\n",
    "\n",
    "import os\n",
    "import subprocess as sp\n",
    "import math\n",
    "import string\n",
    "from random import randint, randrange\n",
    "from heapq import heapify, heappop, heappush\n",
    "from itertools import permutations, combinations, combinations_with_replacement\n",
    "from bisect import bisect, bisect_left, bisect_right\n",
    "from collections import Counter"
   ]
  },
  {
   "cell_type": "code",
   "execution_count": 17,
   "metadata": {},
   "outputs": [],
   "source": [
    "def partition(arr,start,end):\n",
    "    pivot = arr[end]\n",
    "    i = start - 1\n",
    "    for j in range(start,end):\n",
    "        if arr[j] < pivot:\n",
    "            i += 1\n",
    "            arr[i],arr[j] = arr[j],arr[i]\n",
    "    i += 1\n",
    "    arr[i],arr[end] = arr[end],arr[i]\n",
    "    return i\n",
    "    \n",
    "def quickSort(arr,start,end):\n",
    "    if start < end:\n",
    "        pivot_index = partition(arr,start,end)\n",
    "        #print(pivot_index)\n",
    "        quickSort(arr,start,pivot_index-1)\n",
    "        quickSort(arr,pivot_index+1,end)\n",
    "    return arr; \n"
   ]
  },
  {
   "cell_type": "code",
   "execution_count": 18,
   "metadata": {},
   "outputs": [
    {
     "name": "stdout",
     "output_type": "stream",
     "text": [
      "[1, 2, 3, 4]\n"
     ]
    }
   ],
   "source": [
    "print(quickSort([4,3,2,1],0,3))"
   ]
  },
  {
   "cell_type": "code",
   "execution_count": null,
   "metadata": {},
   "outputs": [],
   "source": [
    "                    ###Contributed by NobleBlack"
   ]
  }
 ],
 "metadata": {
  "kernelspec": {
   "display_name": "Python 3",
   "language": "python",
   "name": "python3"
  },
  "language_info": {
   "codemirror_mode": {
    "name": "ipython",
    "version": 3
   },
   "file_extension": ".py",
   "mimetype": "text/x-python",
   "name": "python",
   "nbconvert_exporter": "python",
   "pygments_lexer": "ipython3",
   "version": "3.6.8"
  }
 },
 "nbformat": 4,
 "nbformat_minor": 2
}
