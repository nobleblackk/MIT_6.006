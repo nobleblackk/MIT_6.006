{
 "cells": [
  {
   "cell_type": "markdown",
   "metadata": {},
   "source": [
    "#Implementation of Rat in a Maze"
   ]
  },
  {
   "cell_type": "code",
   "execution_count": null,
   "metadata": {},
   "outputs": [],
   "source": [
    "#!/usr/bin/python36\n",
    "\n",
    "import os \n",
    "import subprocess as sp\n",
    "import math\n",
    "from random import randint, randrange\n",
    "from itertools import permutations, combinations, combinations_with_replacement\n",
    "from collections import Counter, deque\n",
    "from heapq import heapify, heappush, heappop\n",
    "from string import ascii_letters, ascii_lowercase, ascii_uppercase\n",
    "from bisect import bisect, bisect_left, bisect_right"
   ]
  },
  {
   "cell_type": "code",
   "execution_count": 11,
   "metadata": {},
   "outputs": [],
   "source": [
    "class Maze:\n",
    "    def __init__(self,N):\n",
    "        self.N = N\n",
    "        self.maze = [[] for i in range(self.N)]\n",
    "        self.ratPath = [[0 for i in range(self.N)] for j in range(self.N)]\n",
    "    def inputGrid(self):\n",
    "        print(\"Please Input The Grids for \" + str(self.N) + \"Grid Numbers::\" )\n",
    "        for i in range(self.N):\n",
    "            self.maze[i] = list(map(int,input().split()))\n",
    "    def isPossible(self,x,y):\n",
    "        if ((x >= 0 and x < self.N) and (y >= 0 and y < self.N) and self.maze[x][y] == 0):\n",
    "            return True\n",
    "        return False\n",
    "    def mazeSolution(self,x,y):\n",
    "        if x == self.N - 1 and y == self.N - 1:\n",
    "            self.ratPath[x][y] = 1\n",
    "            return True\n",
    "        if (self.isPossible(x,y)):\n",
    "            self.ratPath[x][y] = 1\n",
    "            if (self.mazeSolution(x+1,y)):\n",
    "                return True\n",
    "            if (self.mazeSolution(x,y+1)):\n",
    "                return True\n",
    "        return False\n",
    "    def rat(self):\n",
    "        if (self.mazeSolution(0,0) == True):\n",
    "            for i in range(self.N):\n",
    "                for j in range(self.N):\n",
    "                    print(self.ratPath[i][j], end = ' ')\n",
    "                print()\n",
    "        else:\n",
    "            print(\"Solution Not Possible\")"
   ]
  },
  {
   "cell_type": "code",
   "execution_count": 15,
   "metadata": {},
   "outputs": [],
   "source": [
    "maze = Maze(4)"
   ]
  },
  {
   "cell_type": "code",
   "execution_count": 18,
   "metadata": {},
   "outputs": [
    {
     "name": "stdout",
     "output_type": "stream",
     "text": [
      "Please Input The Grids for 4Grid Numbers::\n",
      "1 1 1 1\n",
      "1 1 1 1\n",
      "0 0 0 0\n",
      "0 0 0 0\n"
     ]
    }
   ],
   "source": [
    "maze.inputGrid()"
   ]
  },
  {
   "cell_type": "code",
   "execution_count": 19,
   "metadata": {},
   "outputs": [
    {
     "name": "stdout",
     "output_type": "stream",
     "text": [
      "Solution Not Possible\n"
     ]
    }
   ],
   "source": [
    "maze.rat()"
   ]
  },
  {
   "cell_type": "code",
   "execution_count": null,
   "metadata": {},
   "outputs": [],
   "source": [
    "                    ###Contributed By NobleBlack"
   ]
  }
 ],
 "metadata": {
  "kernelspec": {
   "display_name": "Python 3",
   "language": "python",
   "name": "python3"
  },
  "language_info": {
   "codemirror_mode": {
    "name": "ipython",
    "version": 3
   },
   "file_extension": ".py",
   "mimetype": "text/x-python",
   "name": "python",
   "nbconvert_exporter": "python",
   "pygments_lexer": "ipython3",
   "version": "3.6.8"
  }
 },
 "nbformat": 4,
 "nbformat_minor": 2
}
