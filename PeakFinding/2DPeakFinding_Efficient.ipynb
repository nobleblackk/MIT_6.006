{
 "cells": [
  {
   "cell_type": "code",
   "execution_count": 21,
   "metadata": {},
   "outputs": [],
   "source": [
    "from random import randint\n",
    "#Input for 2DArray using function randint\n",
    "def Array2D(m,n):\n",
    "    arr=[[randint(1,1000) for i in range(n)] for j in range(m)]\n",
    "    return arr\n",
    "###In this Efficient Method , instead of extracting local peak by traversing all elements,\n",
    "###We are simply using DNC (Devide and Conquer) approach to find local 1D Peak.\n",
    "###It will reduce the complexity from O(m) to O(log m)\n",
    "###Overall Complexity will be O(logmlogn) which is quite good as comparative to prior one\n",
    "###which were O(m*logn)\n",
    "def Peak1D(a):\n",
    "    if a[0] >= a[1]:\n",
    "        return 0\n",
    "    elif a[-1] >= a[-2]:\n",
    "        return len(a)-1\n",
    "    return FindPeak1D(a,0,len(a)-1)\n",
    "\n",
    "def FindPeak1D(a,start,end):\n",
    "    mid = start + (end-start)//2\n",
    "    if start == end:\n",
    "        return a.index(a[mid])\n",
    "    elif a[mid] < a[mid+1]:\n",
    "        return FindPeak1D(a,mid+1,end)\n",
    "    elif a[mid] < a[mid-1]:\n",
    "        return FindPeak1D(a,0,end)\n",
    "    else:\n",
    "        return a.index(a[mid])\n",
    "\n",
    "\n",
    "\n",
    "\n",
    "#Function to extract Global-Maxima for each Column intake\n",
    "def Maxima(arr,mid):\n",
    "    a=[row[mid] for row in arr]\n",
    "    #i=a.index(max(a))\n",
    "    index=Peak1D(a)\n",
    "    return index\n",
    "\n",
    "#Function to fine 2DArray-Peak\n",
    "def FindPeak2D(arr,m,n):\n",
    "    if len(arr[0]) == 1:\n",
    "        return max(arr)\n",
    "    return Peak2D(arr,0,n-1,m)\n",
    "\n",
    "#Function for finding 2DPeak using Recursion\n",
    "def Peak2D(arr,start,end,m): \n",
    "    mid=start + (end-start)//2\n",
    "    print(\"mid\",mid)\n",
    "    index=Maxima(arr,mid)\n",
    "    if start == end:\n",
    "        return arr[index][mid]\n",
    "    if arr[index][mid] < arr[index][mid+1]:\n",
    "        return Peak2D(arr,mid+1,end,n)\n",
    "    elif arr[index][mid] < arr[index][mid-1]:\n",
    "        return Peak2D(arr,0,mid-1,n)\n",
    "    else:\n",
    "        return arr[index][mid]\n",
    "    "
   ]
  },
  {
   "cell_type": "code",
   "execution_count": 28,
   "metadata": {},
   "outputs": [
    {
     "name": "stdout",
     "output_type": "stream",
     "text": [
      "Input No of Rows and Columns2 1\n",
      "[[677], [399]]\n"
     ]
    },
    {
     "data": {
      "text/plain": [
       "[677]"
      ]
     },
     "execution_count": 28,
     "metadata": {},
     "output_type": "execute_result"
    }
   ],
   "source": [
    "#Driver-Code for Finding 2DPeak\n",
    "m,n=map(int,input(\"Input No of Rows and Columns\").split())\n",
    "arr=Array2D(m,n)\n",
    "print(arr)\n",
    "element=FindPeak2D(arr,m,n)\n",
    "element\n",
    "                ###Contributed by NobleBlack."
   ]
  },
  {
   "cell_type": "code",
   "execution_count": null,
   "metadata": {},
   "outputs": [],
   "source": []
  }
 ],
 "metadata": {
  "kernelspec": {
   "display_name": "Python 3",
   "language": "python",
   "name": "python3"
  },
  "language_info": {
   "codemirror_mode": {
    "name": "ipython",
    "version": 3
   },
   "file_extension": ".py",
   "mimetype": "text/x-python",
   "name": "python",
   "nbconvert_exporter": "python",
   "pygments_lexer": "ipython3",
   "version": "3.6.8"
  }
 },
 "nbformat": 4,
 "nbformat_minor": 2
}
