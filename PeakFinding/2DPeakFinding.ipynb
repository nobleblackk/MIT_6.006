{
 "cells": [
  {
   "cell_type": "markdown",
   "metadata": {},
   "source": [
    "PEAK-FINDING PROBLEM FOR 2-D ARRAY USING IN nLog(n) time"
   ]
  },
  {
   "cell_type": "code",
   "execution_count": 1,
   "metadata": {},
   "outputs": [],
   "source": [
    "from random import randint\n",
    "#Input for 2DArray using function randint\n",
    "def Array2D(n,m):\n",
    "    arr=[[randint(1,1000) for i in range(m)] for j in range(n)]\n",
    "    return arr\n",
    "\n",
    "#Function to extract Global-Maxima for each Column intake\n",
    "def Maxima(arr,mid):\n",
    "    a=[row[mid] for row in arr]\n",
    "    i=a.index(max(a))\n",
    "    return i\n",
    "\n",
    "#Function to fine 2DArray-Peak\n",
    "def FindPeak2D(arr,n,m):\n",
    "    return Peak2D(arr,0,m-1,n)\n",
    "\n",
    "#Function for finding 2DPeak using Recursion\n",
    "def Peak2D(arr,start,end,n):\n",
    "    mid=start + (end-start)//2\n",
    "    index=Maxima(arr,mid)\n",
    "    if start == end:\n",
    "        return index,mid,arr[index][mid]\n",
    "    if arr[index][mid] < arr[index][mid+1]:\n",
    "        return Peak2D(arr,mid+1,end,n)\n",
    "    elif arr[index][mid] < arr[index][mid-1]:\n",
    "        return Peak2D(arr,0,mid-1,n)\n",
    "    else:\n",
    "        return index,mid,arr[index][mid]\n",
    "    "
   ]
  },
  {
   "cell_type": "code",
   "execution_count": 9,
   "metadata": {},
   "outputs": [
    {
     "name": "stdout",
     "output_type": "stream",
     "text": [
      "Input No of Rows and Columns3 3\n",
      "[[55, 563, 915], [665, 282, 1000], [316, 54, 621]]\n"
     ]
    }
   ],
   "source": [
    "#Driver-Code for Finding 2DPeak\n",
    "n,m=map(int,input(\"Input No of Rows and Columns\").split())\n",
    "arr=Array2D(n,m)\n",
    "#print(arr)\n",
    "x,y,element=FindPeak2D(arr,n,m)\n",
    "element\n",
    "                ###Contributed by NobleBlack."
   ]
  },
  {
   "cell_type": "code",
   "execution_count": 12,
   "metadata": {},
   "outputs": [],
   "source": []
  },
  {
   "cell_type": "code",
   "execution_count": 13,
   "metadata": {},
   "outputs": [
    {
     "data": {
      "text/plain": [
       "1000"
      ]
     },
     "execution_count": 13,
     "metadata": {},
     "output_type": "execute_result"
    }
   ],
   "source": []
  },
  {
   "cell_type": "code",
   "execution_count": null,
   "metadata": {},
   "outputs": [],
   "source": []
  }
 ],
 "metadata": {
  "kernelspec": {
   "display_name": "Python 3",
   "language": "python",
   "name": "python3"
  },
  "language_info": {
   "codemirror_mode": {
    "name": "ipython",
    "version": 3
   },
   "file_extension": ".py",
   "mimetype": "text/x-python",
   "name": "python",
   "nbconvert_exporter": "python",
   "pygments_lexer": "ipython3",
   "version": "3.6.8"
  }
 },
 "nbformat": 4,
 "nbformat_minor": 2
}
