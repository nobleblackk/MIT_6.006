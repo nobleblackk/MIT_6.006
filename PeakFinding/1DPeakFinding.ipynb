{
 "cells": [
  {
   "cell_type": "markdown",
   "metadata": {},
   "source": [
    "PEAK-FINDING PROBLEM FOR 1-D ARRAY USING BINARY-SEARCH ALGORITHM IN Log(n) time\n"
   ]
  },
  {
   "cell_type": "code",
   "execution_count": 5,
   "metadata": {},
   "outputs": [
    {
     "name": "stdout",
     "output_type": "stream",
     "text": [
      "Input size of array4\n",
      "[22, 94, 54, 48]\n",
      "1 94\n"
     ]
    }
   ],
   "source": [
    "from random import randint \n",
    "\n",
    "##a=list(map(int,input().split()))\n",
    "\n",
    "#Input of 1DArray using function randint()\n",
    "def Array1D(n): \n",
    "    arr=[]\n",
    "    for i in range(n):\n",
    "        arr.append(randint(1,100))\n",
    "    return arr\n",
    "\n",
    "#Finding Local Peak\n",
    "def FindPeak1D(arr):\n",
    "    if arr[0]>=arr[1]:\n",
    "        return 0,arr[0]\n",
    "    elif arr[-1]>=arr[-2]:\n",
    "        return len(arr)-1,arr[-1]\n",
    "    return Peak1D(arr,0,len(arr)-1)\n",
    "\n",
    "#Finding Peak using Recursion\n",
    "def Peak1D(arr,start,end):\n",
    "    mid=start+(end-start)//2\n",
    "    if start==end:\n",
    "        return mid,arr[mid]\n",
    "    elif arr[mid]<arr[mid+1]:\n",
    "        return Peak1D(arr,mid+1,end)\n",
    "    elif arr[mid]<arr[mid-1]:\n",
    "        return Peak1D(arr,0,mid-1)\n",
    "    else:\n",
    "        return mid,arr[mid]\n",
    "\n",
    "\n"
   ]
  },
  {
   "cell_type": "code",
   "execution_count": 2,
   "metadata": {},
   "outputs": [
    {
     "data": {
      "text/plain": [
       "[2, 3, 1, 5, 7]"
      ]
     },
     "execution_count": 2,
     "metadata": {},
     "output_type": "execute_result"
    }
   ],
   "source": [
    "#Driver-Code\n",
    "n=int(input(\"Input size of array\"))\n",
    "arr=Array1D(n)\n",
    "print(arr)\n",
    "index,peak = FindPeak1D(arr)\n",
    "print(index,peak)\n",
    "#print(element)\n",
    "                    ###Contributed by NobleBlack. \n",
    "\n"
   ]
  },
  {
   "cell_type": "code",
   "execution_count": null,
   "metadata": {},
   "outputs": [],
   "source": []
  },
  {
   "cell_type": "code",
   "execution_count": null,
   "metadata": {},
   "outputs": [],
   "source": []
  },
  {
   "cell_type": "code",
   "execution_count": null,
   "metadata": {},
   "outputs": [],
   "source": []
  }
 ],
 "metadata": {
  "kernelspec": {
   "display_name": "Python 3",
   "language": "python",
   "name": "python3"
  },
  "language_info": {
   "codemirror_mode": {
    "name": "ipython",
    "version": 3
   },
   "file_extension": ".py",
   "mimetype": "text/x-python",
   "name": "python",
   "nbconvert_exporter": "python",
   "pygments_lexer": "ipython3",
   "version": "3.6.8"
  }
 },
 "nbformat": 4,
 "nbformat_minor": 2
}
