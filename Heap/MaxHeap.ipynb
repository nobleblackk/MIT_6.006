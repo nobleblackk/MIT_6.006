{
 "cells": [
  {
   "cell_type": "markdown",
   "metadata": {},
   "source": [
    "#Implementation of Heap-Abstract Data Structure"
   ]
  },
  {
   "cell_type": "code",
   "execution_count": 1,
   "metadata": {},
   "outputs": [],
   "source": [
    "#!/usr/bin/python36\n",
    "import os\n",
    "import subprocess as sp\n",
    "from random import randint, randrange\n",
    "from bisect import bisect, bisect_left, bisect_right\n",
    "from heapq import heappush, heappop, heapify\n",
    "from collections import Counter\n",
    "import math"
   ]
  },
  {
   "cell_type": "code",
   "execution_count": 32,
   "metadata": {},
   "outputs": [],
   "source": [
    "class HeapMax:\n",
    "    HeapSize=10\n",
    "    def __init__(self):\n",
    "        self.heap=[0]*(HeapMax.HeapSize)\n",
    "        self.currentPosition=-1\n",
    "    def insertion(self,data):\n",
    "        if self.isFull():\n",
    "            print(\"Heap is full\")\n",
    "            return\n",
    "        else:\n",
    "            self.currentPosition+=1\n",
    "            self.heap[self.currentPosition]=data\n",
    "            self.heapify(self.currentPosition)\n",
    "    def isFull(self):\n",
    "        if self.currentPosition==(HeapMax.HeapSize)-1:\n",
    "            return True\n",
    "        else:\n",
    "            return False\n",
    "    def heapify(self,index):\n",
    "        parentIndex=(index-1)//2\n",
    "        while parentIndex>=0 and self.heap[parentIndex]<self.heap[index]:\n",
    "            self.heap[parentIndex],self.heap[index]=self.heap[index],self.heap[parentIndex]\n",
    "            index=parentIndex\n",
    "            parentIndex=(index-1)//2\n",
    "    def heapSort(self):\n",
    "        print(\"HeapSort:\")\n",
    "        for i in range(0,self.currentPosition+1,1):\n",
    "            temp=self.heap[0]\n",
    "            print(temp,end=' ')\n",
    "            self.heap[0]=self.heap[self.currentPosition-i]\n",
    "            self.heap[self.currentPosition-i]=temp# =>Useless, bcoz we gonna drop this anyway\n",
    "            self.fixDown(0,self.currentPosition-i-1)\n",
    "        print()\n",
    "        print(self.heap)\n",
    "        self.buildHeap()\n",
    "        print(self.heap)\n",
    "    def buildHeap(self):\n",
    "        n=(self.currentPosition-1)//2\n",
    "        for i in range(n,-1,-1):\n",
    "            self.fixDown(i,self.currentPosition)\n",
    "    def fixDown(self,index,upto):\n",
    "        while index<upto:\n",
    "            leftChild=(index*2)+1\n",
    "            rightChild=(index*2)+2\n",
    "            if leftChild <= upto:\n",
    "                childToSwap=None\n",
    "                if rightChild>upto:\n",
    "                    childToSwap=leftChild\n",
    "                else:\n",
    "                    if self.heap[leftChild]>self.heap[rightChild]:\n",
    "                        childToSwap=leftChild\n",
    "                    else:\n",
    "                        childToSwap=rightChild\n",
    "                if self.heap[index]<self.heap[childToSwap]:\n",
    "                    self.heap[index],self.heap[childToSwap]=self.heap[childToSwap],self.heap[index]\n",
    "                    index=childToSwap\n",
    "                else:\n",
    "                    break\n",
    "            else:\n",
    "                break\n",
    "                    \n",
    "    def printHeap(self):\n",
    "        print(\"Representation of MaxHeap in Array-Form:\")\n",
    "        for i in range(0,self.currentPosition+1):\n",
    "            print(self.heap[i],end=' ')\n",
    "        print()\n",
    "                    ###Contributed by NobleBlack\n",
    "    \n",
    "            "
   ]
  },
  {
   "cell_type": "code",
   "execution_count": 33,
   "metadata": {},
   "outputs": [
    {
     "name": "stdout",
     "output_type": "stream",
     "text": [
      "Representation of MaxHeap in Array-Form:\n",
      "16 14 10 8 7 9 3 2 4 1 \n",
      "HeapSort:\n",
      "16 14 10 9 8 7 4 3 2 1 \n",
      "[1, 2, 3, 4, 7, 8, 9, 10, 14, 16]\n",
      "[16, 14, 9, 10, 7, 8, 3, 1, 4, 2]\n"
     ]
    }
   ],
   "source": [
    "a=HeapMax()\n",
    "a.insertion(16)\n",
    "a.insertion(4)\n",
    "a.insertion(10)\n",
    "a.insertion(14)\n",
    "a.insertion(7)\n",
    "a.insertion(9)\n",
    "a.insertion(3)\n",
    "a.insertion(2)\n",
    "a.insertion(8)\n",
    "a.insertion(1)\n",
    "a.printHeap()\n",
    "a.heapSort()"
   ]
  },
  {
   "cell_type": "code",
   "execution_count": null,
   "metadata": {},
   "outputs": [],
   "source": []
  }
 ],
 "metadata": {
  "kernelspec": {
   "display_name": "Python 3",
   "language": "python",
   "name": "python3"
  },
  "language_info": {
   "codemirror_mode": {
    "name": "ipython",
    "version": 3
   },
   "file_extension": ".py",
   "mimetype": "text/x-python",
   "name": "python",
   "nbconvert_exporter": "python",
   "pygments_lexer": "ipython3",
   "version": "3.6.8"
  }
 },
 "nbformat": 4,
 "nbformat_minor": 2
}
