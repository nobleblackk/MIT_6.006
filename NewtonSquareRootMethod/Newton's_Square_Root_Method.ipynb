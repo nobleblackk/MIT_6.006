{
 "cells": [
  {
   "cell_type": "markdown",
   "metadata": {},
   "source": [
    "Implementation of Newton's Square Root Method"
   ]
  },
  {
   "cell_type": "code",
   "execution_count": 1,
   "metadata": {},
   "outputs": [],
   "source": [
    "#!/use/bin/python36\n",
    "\n",
    "import os \n",
    "import subprocess as sp\n",
    "import math\n",
    "from random import randint, randrange\n",
    "import collections\n",
    "from bisect import bisect, bisect_left, bisect_right\n",
    "from decimal import *\n",
    "from heapq import heapify, heappop, heappush\n",
    "import string\n"
   ]
  },
  {
   "cell_type": "code",
   "execution_count": 16,
   "metadata": {},
   "outputs": [],
   "source": [
    "\"\"\"\n",
    "Square root of any number upto millions of digits can be calculated using Newton's Method,\n",
    "it uses Equation of Tangent as [y = f(x) + f'(x).(x-xi)] and then calculate for the root of \n",
    "equation through successive approach and after certain repetitions it get the square root.\n",
    "Equation for Square Root => x(i+1) = (xi + (a/xi))/2\n",
    "\"\"\"\n",
    "def Newton(number,iterations=500):\n",
    "    a = float(number)\n",
    "    for i in range(iterations):\n",
    "        number = (number + (a/number))/2\n",
    "    return number\n",
    "\n",
    "    \n",
    "        "
   ]
  },
  {
   "cell_type": "code",
   "execution_count": 17,
   "metadata": {},
   "outputs": [
    {
     "name": "stdout",
     "output_type": "stream",
     "text": [
      "1.414213562373095\n"
     ]
    }
   ],
   "source": [
    "print(Newton(2))"
   ]
  },
  {
   "cell_type": "code",
   "execution_count": null,
   "metadata": {},
   "outputs": [],
   "source": []
  }
 ],
 "metadata": {
  "kernelspec": {
   "display_name": "Python 3",
   "language": "python",
   "name": "python3"
  },
  "language_info": {
   "codemirror_mode": {
    "name": "ipython",
    "version": 3
   },
   "file_extension": ".py",
   "mimetype": "text/x-python",
   "name": "python",
   "nbconvert_exporter": "python",
   "pygments_lexer": "ipython3",
   "version": "3.6.8"
  }
 },
 "nbformat": 4,
 "nbformat_minor": 2
}
