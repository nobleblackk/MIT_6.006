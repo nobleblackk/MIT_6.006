{
 "cells": [
  {
   "cell_type": "markdown",
   "metadata": {},
   "source": [
    "#Implementation of NQueens Problem"
   ]
  },
  {
   "cell_type": "code",
   "execution_count": 1,
   "metadata": {},
   "outputs": [],
   "source": [
    "#!/usr/bin/python36\n",
    "\n",
    "import os \n",
    "import subprocess as sp\n",
    "import math\n",
    "from random import randint, randrange\n",
    "from itertools import permutations, combinations, combinations_with_replacement\n",
    "from collections import Counter, deque\n",
    "from heapq import heapify, heappush, heappop\n",
    "from string import ascii_letters, ascii_lowercase, ascii_uppercase\n",
    "from bisect import bisect, bisect_left, bisect_right"
   ]
  },
  {
   "cell_type": "code",
   "execution_count": 14,
   "metadata": {},
   "outputs": [],
   "source": [
    "class Board:\n",
    "    def __init__(self,n):\n",
    "        self.N = n\n",
    "        self.board = [[0 for i in range(self.N)] for j in range(self.N)]\n",
    "    \n",
    "    def isSafe(self,row,column):\n",
    "        #checking for same row but previous columns for collisions\n",
    "        i = 0; \n",
    "        while i < column:\n",
    "            if self.board[row][i] == 1:\n",
    "                return False\n",
    "            i += 1\n",
    "        \n",
    "        #checking for left upper diagonal elements for collisions\n",
    "        i = row - 1; j = column - 1\n",
    "        while (i >= 0 and j >= 0):\n",
    "            if self.board[i][j] == 1:\n",
    "                return False\n",
    "            i -= 1; j -= 1\n",
    "        \n",
    "        #checking for left lower diagonal elements for collisions\n",
    "        i = row + 1; j = column - 1\n",
    "        while (i < self.N and j >= 0):\n",
    "            if self.board[i][j] == 1:\n",
    "                return False\n",
    "            i += 1; j -= 1\n",
    "        #It means, our queen is good to be placed at this position,\n",
    "        #no collisions found\n",
    "        return True\n",
    "    \n",
    "        \n",
    "        \n",
    "        \n",
    "    def nQueensProblem(self,column):\n",
    "        if column == self.N:\n",
    "            return True\n",
    "        #Going to check for each row to place queen without violation \n",
    "        for row in range(0,self.N):\n",
    "            #to check whether it doesn't violate to any earlier queen position\n",
    "            if (self.isSafe(row,column) == True): #means, we can place our queen here :)\n",
    "                self.board[row][column] = 1\n",
    "                #Checking for next positions, as all earlier queens are satisfied\n",
    "                if (self.nQueensProblem(column + 1) == True):\n",
    "                    return True\n",
    "                #it means, further position is creating collision with earlier queen placed,\n",
    "                #so , we would search for other position and make it zero\n",
    "                self.board[row][column] = 0\n",
    "        return False\n",
    "    \n",
    "    #Driver code to Execute N-Queens Problem\n",
    "    def queen(self):\n",
    "        if self.nQueensProblem(0) == True:\n",
    "            for i in range(self.N):\n",
    "                for j in range(self.N):\n",
    "                    print(self.board[i][j],end = ' ')\n",
    "                print()\n",
    "        else:\n",
    "            print(\"Solution Not Possible\")\n",
    "    \n",
    "    \n",
    "    \n",
    "                "
   ]
  },
  {
   "cell_type": "code",
   "execution_count": 21,
   "metadata": {},
   "outputs": [
    {
     "name": "stdout",
     "output_type": "stream",
     "text": [
      "0 0 1 0 \n",
      "1 0 0 0 \n",
      "0 0 0 1 \n",
      "0 1 0 0 \n"
     ]
    }
   ],
   "source": [
    "board= Board(4)\n",
    "board.queen()\n"
   ]
  },
  {
   "cell_type": "code",
   "execution_count": null,
   "metadata": {},
   "outputs": [],
   "source": []
  },
  {
   "cell_type": "code",
   "execution_count": null,
   "metadata": {},
   "outputs": [],
   "source": []
  }
 ],
 "metadata": {
  "kernelspec": {
   "display_name": "Python 3",
   "language": "python",
   "name": "python3"
  },
  "language_info": {
   "codemirror_mode": {
    "name": "ipython",
    "version": 3
   },
   "file_extension": ".py",
   "mimetype": "text/x-python",
   "name": "python",
   "nbconvert_exporter": "python",
   "pygments_lexer": "ipython3",
   "version": "3.6.8"
  }
 },
 "nbformat": 4,
 "nbformat_minor": 2
}
