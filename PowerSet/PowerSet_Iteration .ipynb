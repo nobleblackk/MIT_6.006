{
 "cells": [
  {
   "cell_type": "markdown",
   "metadata": {},
   "source": [
    "#Implementation of PowerSet Using Iteration"
   ]
  },
  {
   "cell_type": "code",
   "execution_count": 1,
   "metadata": {},
   "outputs": [],
   "source": [
    "#!/usr/bin/python36\n",
    "\n",
    "import os \n",
    "import subprocess as sp\n",
    "import math\n",
    "from random import randint, randrange\n",
    "from itertools import permutations, combinations, combinations_with_replacement\n",
    "from collections import Counter, deque\n",
    "from heapq import heapify, heappush, heappop\n",
    "from string import ascii_letters, ascii_lowercase, ascii_uppercase\n",
    "from bisect import bisect, bisect_left, bisect_right"
   ]
  },
  {
   "cell_type": "code",
   "execution_count": 7,
   "metadata": {},
   "outputs": [
    {
     "name": "stdout",
     "output_type": "stream",
     "text": [
      ", a, b, ab, c, ac, bc, abc, "
     ]
    }
   ],
   "source": [
    "def powerSet(arr):\n",
    "    for i in range(0,2**len(arr)):\n",
    "        count = \"\" \n",
    "        for j in range(0,len(arr)):\n",
    "            if (i & (1 << j)) :\n",
    "                count += arr[j]\n",
    "        print(count, end = \", \")\n",
    "powerSet(\"abc\")\n",
    "        "
   ]
  },
  {
   "cell_type": "code",
   "execution_count": null,
   "metadata": {},
   "outputs": [],
   "source": [
    "                    ###Contributed by NobleBlack"
   ]
  }
 ],
 "metadata": {
  "kernelspec": {
   "display_name": "Python 3",
   "language": "python",
   "name": "python3"
  },
  "language_info": {
   "codemirror_mode": {
    "name": "ipython",
    "version": 3
   },
   "file_extension": ".py",
   "mimetype": "text/x-python",
   "name": "python",
   "nbconvert_exporter": "python",
   "pygments_lexer": "ipython3",
   "version": "3.6.8"
  }
 },
 "nbformat": 4,
 "nbformat_minor": 2
}
