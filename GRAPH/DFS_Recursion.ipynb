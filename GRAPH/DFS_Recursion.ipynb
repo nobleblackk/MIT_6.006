{
 "cells": [
  {
   "cell_type": "markdown",
   "metadata": {},
   "source": [
    "#Implementation of DFS(Depth First Search) using Recursion"
   ]
  },
  {
   "cell_type": "code",
   "execution_count": 1,
   "metadata": {},
   "outputs": [],
   "source": [
    "#!/usr/bin/python36\n",
    "\n",
    "import os\n",
    "import subprocess as sp\n",
    "import math\n",
    "from random import randint, randrange\n",
    "from string import ascii_letters, ascii_lowercase, ascii_uppercase\n",
    "from collections import Counter\n",
    "from heapq import heapify, heappush, heappop\n",
    "from itertools import permutations, combinations, combinations_with_replacement\n",
    "from bisect import bisect, bisect_left, bisect_right"
   ]
  },
  {
   "cell_type": "code",
   "execution_count": 2,
   "metadata": {},
   "outputs": [],
   "source": [
    "class Node:\n",
    "    def __init__(self,vertex):\n",
    "        self.vertex = vertex\n",
    "        self.visited = False\n",
    "        self.adjacencyList = []\n",
    "        "
   ]
  },
  {
   "cell_type": "code",
   "execution_count": 6,
   "metadata": {},
   "outputs": [],
   "source": [
    "class DFS:\n",
    "    def dfs(self,s):\n",
    "        s.visited = True\n",
    "        print(s.vertex)\n",
    "        for neighbour in s.adjacencyList:\n",
    "            if neighbour.visited != True:\n",
    "                self.dfs(neighbour)"
   ]
  },
  {
   "cell_type": "code",
   "execution_count": 7,
   "metadata": {},
   "outputs": [
    {
     "name": "stdout",
     "output_type": "stream",
     "text": [
      "1\n",
      "2\n",
      "3\n",
      "4\n"
     ]
    }
   ],
   "source": [
    "demo = DFS()\n",
    "a = Node(1)\n",
    "b = Node(2)\n",
    "c = Node(3)\n",
    "d = Node(4)\n",
    "a.adjacencyList.append(b)\n",
    "a.adjacencyList.append(d)\n",
    "b.adjacencyList.append(a)\n",
    "b.adjacencyList.append(c)\n",
    "b.adjacencyList.append(d)\n",
    "demo.dfs(a)\n"
   ]
  },
  {
   "cell_type": "code",
   "execution_count": null,
   "metadata": {},
   "outputs": [],
   "source": [
    "                    ###Contributed by NobleBlack"
   ]
  }
 ],
 "metadata": {
  "kernelspec": {
   "display_name": "Python 3",
   "language": "python",
   "name": "python3"
  },
  "language_info": {
   "codemirror_mode": {
    "name": "ipython",
    "version": 3
   },
   "file_extension": ".py",
   "mimetype": "text/x-python",
   "name": "python",
   "nbconvert_exporter": "python",
   "pygments_lexer": "ipython3",
   "version": "3.6.8"
  }
 },
 "nbformat": 4,
 "nbformat_minor": 2
}
