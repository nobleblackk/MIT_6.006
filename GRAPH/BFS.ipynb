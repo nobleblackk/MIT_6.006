{
 "cells": [
  {
   "cell_type": "markdown",
   "metadata": {},
   "source": [
    "Implementation of BFS(Breadth First Search)\n",
    "\n"
   ]
  },
  {
   "cell_type": "code",
   "execution_count": 1,
   "metadata": {},
   "outputs": [],
   "source": [
    "#!/usr/bin/python36\n",
    "\n",
    "import os\n",
    "import subprocess as sp\n",
    "import math\n",
    "from random import randint, randrange\n",
    "from string import ascii_letters, ascii_lowercase, ascii_uppercase\n",
    "from collections import Counter\n",
    "from itertools import permutations, combinations, combinations_with_replacement\n",
    "from bisect import bisect, bisect_left, bisect_right\n",
    "from heapq import heapify, heappush, heappop\n",
    "from decimal import Decimal\n"
   ]
  },
  {
   "cell_type": "code",
   "execution_count": 2,
   "metadata": {},
   "outputs": [],
   "source": [
    "class Node:\n",
    "    def __init__(self, vertex):\n",
    "        self.vertex = vertex\n",
    "        self.adjacencyList = []\n",
    "        self.predecessor = None\n",
    "        "
   ]
  },
  {
   "cell_type": "code",
   "execution_count": 3,
   "metadata": {},
   "outputs": [],
   "source": [
    "class BFS:\n",
    "    def bfs(self,startNode):\n",
    "        level = {startNode : 0}\n",
    "        parent = {startNode : None}\n",
    "        frontier = [startNode]\n",
    "        \n",
    "        startNode.predecessor = parent[startNode]\n",
    "        i = 1\n",
    "        print(startNode.vertex)\n",
    "        while frontier:\n",
    "            next = []\n",
    "            for vertex in frontier:\n",
    "                    for neighbours in vertex.adjacencyList:\n",
    "                        if neighbours not in level:\n",
    "                            print(neighbours.vertex)\n",
    "                            level[neighbours] = i\n",
    "                            parent[neighbours] = vertex\n",
    "                            neighbours.predecessor = parent[neighbours]\n",
    "                            next.append(neighbours)\n",
    "            frontier = next\n",
    "            i += 1\n",
    "            \n",
    "        "
   ]
  },
  {
   "cell_type": "code",
   "execution_count": 5,
   "metadata": {},
   "outputs": [
    {
     "name": "stdout",
     "output_type": "stream",
     "text": [
      "a\n",
      "b\n"
     ]
    }
   ],
   "source": [
    "a = Node('a')\n",
    "b = Node('b')\n",
    "c = Node('c')\n",
    "\n",
    "\n",
    "abc = BFS()\n",
    "\n",
    "a.adjacencyList.append(b)\n",
    "a.adjacencyList.append(c)\n",
    "\n",
    "abc.bfs(a)\n"
   ]
  },
  {
   "cell_type": "code",
   "execution_count": null,
   "metadata": {},
   "outputs": [],
   "source": [
    "                    ###Contributed by NobleBlack"
   ]
  }
 ],
 "metadata": {
  "kernelspec": {
   "display_name": "Python 3",
   "language": "python",
   "name": "python3"
  },
  "language_info": {
   "codemirror_mode": {
    "name": "ipython",
    "version": 3
   },
   "file_extension": ".py",
   "mimetype": "text/x-python",
   "name": "python",
   "nbconvert_exporter": "python",
   "pygments_lexer": "ipython3",
   "version": "3.6.8"
  }
 },
 "nbformat": 4,
 "nbformat_minor": 2
}
