{
 "cells": [
  {
   "cell_type": "markdown",
   "metadata": {},
   "source": [
    "Implementation of Karastuba Multiplication Mehtod\n"
   ]
  },
  {
   "cell_type": "code",
   "execution_count": 30,
   "metadata": {},
   "outputs": [],
   "source": [
    "#!/usr/bin/python36\n",
    "\n",
    "import os\n",
    "import subprocess as sp\n",
    "import math\n",
    "import string\n",
    "from random import randint, randrange\n",
    "import collections\n",
    "from bisect import bisect, bisect_left, bisect_right\n",
    "from heapq import heapify, heappush, heappop\n"
   ]
  },
  {
   "cell_type": "code",
   "execution_count": 38,
   "metadata": {},
   "outputs": [],
   "source": [
    "\"\"\"\n",
    "Kartsuba Multiplication Method is used to perform multiplication for two long digits in \n",
    "efficient way, the normal grade school method takes O(n**2) Complexity but Karatsuba \n",
    "requires only O(n**log2(3)) ~ O(n**(1.585)) which is quite efficient.\n",
    "this method can also be used in the situations where there might occur any possibility of \n",
    "having the product of multiplication greater than the size of specific word-size(32,64 etc.).\n",
    "it uses the divide and conquer Paradigm, it makes the two halves of each digit and repeat this\n",
    "process until we get significantly lower digit(in my case which is 1) then we only perform \n",
    "multiplication for 3 pairs and get the result same as done by the process we learnt in grade \n",
    "school, \n",
    "P.S. Karatsuba used the very famous trick known as Guass's Trick to evaluate multiplication.\n",
    "\"\"\"\n",
    "class Karatsuba:\n",
    "    def __init__(self):\n",
    "        self.product = 0\n",
    "    def multiplication(self,x,y):\n",
    "        if len(str(x)) == 1 or len(str(y)) == 1:\n",
    "            return x*y\n",
    "        else:\n",
    "            n = max(len(str(x)), len(str(y))) // 2 \n",
    "\n",
    "            a = x // (10**n)\n",
    "            b = x % (10**n)\n",
    "            c = y // (10**n)\n",
    "            d = y % (10**n)\n",
    "\n",
    "            ac = self.multiplication(a,c)\n",
    "            bd = self.multiplication(b,d)\n",
    "\n",
    "            ad_bc = self.multiplication(a+b,c+d) - ac - bd\n",
    "\n",
    "            self.product = (ac*(10**(n*2))) + (ad_bc*(10**n)) + bd \n",
    "        return self.product"
   ]
  },
  {
   "cell_type": "code",
   "execution_count": 39,
   "metadata": {},
   "outputs": [
    {
     "name": "stdout",
     "output_type": "stream",
     "text": [
      "133828356912887171668808200240671445285833831002832426566357678583950\n"
     ]
    }
   ],
   "source": [
    "demo = Karatsuba()\n",
    "print(demo.multiplication(1253464557547568586785775685,106766765846754647868685557456746774575670))\n"
   ]
  },
  {
   "cell_type": "code",
   "execution_count": 40,
   "metadata": {},
   "outputs": [],
   "source": [
    "                    ###Contributed by NobleBlack"
   ]
  },
  {
   "cell_type": "code",
   "execution_count": null,
   "metadata": {},
   "outputs": [],
   "source": []
  }
 ],
 "metadata": {
  "kernelspec": {
   "display_name": "Python 3",
   "language": "python",
   "name": "python3"
  },
  "language_info": {
   "codemirror_mode": {
    "name": "ipython",
    "version": 3
   },
   "file_extension": ".py",
   "mimetype": "text/x-python",
   "name": "python",
   "nbconvert_exporter": "python",
   "pygments_lexer": "ipython3",
   "version": "3.6.8"
  }
 },
 "nbformat": 4,
 "nbformat_minor": 2
}
