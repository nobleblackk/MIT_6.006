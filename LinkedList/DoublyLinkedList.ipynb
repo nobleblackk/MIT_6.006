{
 "cells": [
  {
   "cell_type": "markdown",
   "metadata": {},
   "source": [
    "#Implementation of Doubly-LinkedList "
   ]
  },
  {
   "cell_type": "code",
   "execution_count": null,
   "metadata": {},
   "outputs": [],
   "source": [
    "#!/usr/bin/python36\n",
    "\n",
    "import os \n",
    "import subprocess as sp\n",
    "import math\n",
    "from random import randint, randrange\n",
    "from string import ascii_letters, ascii_lowercase, ascii_uppercase\n",
    "from itertools import combinations, combinations_with_replacement, permutations\n",
    "from bisect import bisect, bisect_left, bisect_right\n",
    "from collections import Counter\n",
    "from heapq import heapify, heappush, heappop"
   ]
  },
  {
   "cell_type": "code",
   "execution_count": 4,
   "metadata": {},
   "outputs": [],
   "source": [
    "class Node:\n",
    "    def __init__(self,data):\n",
    "        self.data = data\n",
    "        self.next = None\n",
    "        self.previous = None"
   ]
  },
  {
   "cell_type": "code",
   "execution_count": 49,
   "metadata": {},
   "outputs": [],
   "source": [
    "class DLL:\n",
    "    def __init__(self):\n",
    "        self.head = None\n",
    "        self.tail = None\n",
    "    \n",
    "    def insertionStart(self,data):\n",
    "        ###When LL is Empty \n",
    "        if self.head == None:\n",
    "            self.head = Node(data)\n",
    "            self.tail = self.head\n",
    "        else:\n",
    "            temp = Node(data)\n",
    "            temp.next = self.head\n",
    "            (self.head).previous = temp\n",
    "            self.head = temp\n",
    "    \n",
    "    def insertionEnd(self,data):\n",
    "        ###when LL is Empty\n",
    "        if self.head == None:\n",
    "            self.head = Node(data)\n",
    "            self.tail = self.head\n",
    "        else:\n",
    "            temp = Node(data)\n",
    "            self.tail.next = temp\n",
    "            temp.previous = self.tail\n",
    "            self.tail = temp\n",
    "            \n",
    "    def deletion(self,data):\n",
    "        ###when LL is Empty\n",
    "        if self.head == None:\n",
    "            print(\"LinkedList is Empty\")\n",
    "            return\n",
    "        elif self.tail.data == data:\n",
    "            self.tail.previous.next = None\n",
    "            return\n",
    "        previous = None\n",
    "        current = self.head\n",
    "        while current.data != data:\n",
    "            previous = current \n",
    "            current = current.next\n",
    "        if previous == None:\n",
    "            self.head = current.next\n",
    "            self.head.previous = None\n",
    "        else:\n",
    "            previous.next = current.next\n",
    "            (current.next).previous = previous\n",
    "    \n",
    "    def printLL(self):\n",
    "        if self.head == None:\n",
    "            print(\"LinkedList is Empty\")\n",
    "            return\n",
    "        else:\n",
    "            cur = self.head\n",
    "            while cur != None:\n",
    "                print(cur.data)\n",
    "                cur = cur.next\n",
    "            \n",
    "            "
   ]
  },
  {
   "cell_type": "code",
   "execution_count": 52,
   "metadata": {},
   "outputs": [
    {
     "name": "stdout",
     "output_type": "stream",
     "text": [
      "1\n",
      "2\n",
      "3\n",
      "4\n",
      "5\n",
      "6\n",
      "7\n",
      "8\n",
      "new\n",
      "1\n",
      "2\n",
      "3\n",
      "5\n",
      "6\n",
      "7\n",
      "8\n"
     ]
    }
   ],
   "source": [
    "demo = DLL()\n",
    "demo.insertionStart(4)\n",
    "demo.insertionStart(3)\n",
    "demo.insertionStart(2)\n",
    "demo.insertionStart(1)\n",
    "demo.insertionEnd(5)\n",
    "demo.insertionEnd(6)\n",
    "demo.insertionEnd(7)\n",
    "demo.insertionEnd(8)\n",
    "demo.printLL()\n",
    "demo.deletion(4)\n",
    "print(\"new\")\n",
    "demo.printLL()\n"
   ]
  },
  {
   "cell_type": "code",
   "execution_count": null,
   "metadata": {},
   "outputs": [],
   "source": [
    "                    ###Contributed by NobleBlack"
   ]
  },
  {
   "cell_type": "code",
   "execution_count": null,
   "metadata": {},
   "outputs": [],
   "source": []
  }
 ],
 "metadata": {
  "kernelspec": {
   "display_name": "Python 3",
   "language": "python",
   "name": "python3"
  },
  "language_info": {
   "codemirror_mode": {
    "name": "ipython",
    "version": 3
   },
   "file_extension": ".py",
   "mimetype": "text/x-python",
   "name": "python",
   "nbconvert_exporter": "python",
   "pygments_lexer": "ipython3",
   "version": "3.6.8"
  }
 },
 "nbformat": 4,
 "nbformat_minor": 2
}
